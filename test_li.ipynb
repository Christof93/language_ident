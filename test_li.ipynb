{
 "cells": [
  {
   "cell_type": "code",
   "execution_count": 4,
   "metadata": {},
   "outputs": [],
   "source": [
    "\n",
    "from tqdm import tqdm\n",
    "import NB_classifier as NB\n",
    "from datasets import load_dataset\n",
    "from importlib import reload\n",
    "import features\n",
    "import evaluation"
   ]
  },
  {
   "cell_type": "markdown",
   "metadata": {},
   "source": [
    "# Language Identification with Python\n",
    "\n",
    "For the task of automatic langueage identification I used a multinomial Naive Bayes classifier.\n",
    "As features a bag-of-words approach with character n-grams $(1<=n<=4)$ was used.\n",
    "\n",
    "As a dataset I took the universal dependencies corpus from HuggingFace with a predetermined train and test split.\n",
    "\n",
    "I decided to test the classifier on these 20 languages:"
   ]
  },
  {
   "cell_type": "code",
   "execution_count": 5,
   "metadata": {},
   "outputs": [],
   "source": [
    "languages = ['ca', 'cs', 'da', 'fr', 'de', 'en', 'es', 'et', 'fi', 'hr', 'hu', 'it', 'lt', 'nl', 'no', 'pt', 'pl', 'ro', 'sv', 'tr']\n",
    "languages_ud_codes = ['ca_ancora', 'cs_cac', 'da_ddt', 'fr_gsd', 'de_gsd', 'en_ewt', 'es_gsd', 'et_edt', 'fi_tdt', 'hr_set', 'hu_szeged', 'it_isdt', 'lt_alksnis', 'nl_alpino', 'no_bokmaal', 'pt_bosque', 'pl_pdb', 'ro_rrt', 'sv_talbanken', 'tr_boun']"
   ]
  },
  {
   "cell_type": "markdown",
   "metadata": {},
   "source": [
    "### Download the dataset"
   ]
  },
  {
   "cell_type": "code",
   "execution_count": 6,
   "metadata": {},
   "outputs": [
    {
     "name": "stdout",
     "output_type": "stream",
     "text": [
      "ca_ancora\n"
     ]
    },
    {
     "name": "stderr",
     "output_type": "stream",
     "text": [
      "Reusing dataset universal_dependencies (/Users/chrble/.cache/huggingface/datasets/universal_dependencies/ca_ancora/2.7.0/065e728dfe9a8371434a6e87132c2386a6eacab1a076d3a12aa417b994e6ef7d)\n",
      "100%|██████████| 3/3 [00:00<00:00, 276.48it/s]\n"
     ]
    },
    {
     "name": "stdout",
     "output_type": "stream",
     "text": [
      "cs_cac\n"
     ]
    },
    {
     "name": "stderr",
     "output_type": "stream",
     "text": [
      "Reusing dataset universal_dependencies (/Users/chrble/.cache/huggingface/datasets/universal_dependencies/cs_cac/2.7.0/065e728dfe9a8371434a6e87132c2386a6eacab1a076d3a12aa417b994e6ef7d)\n",
      "100%|██████████| 3/3 [00:00<00:00, 335.61it/s]\n"
     ]
    },
    {
     "name": "stdout",
     "output_type": "stream",
     "text": [
      "da_ddt\n"
     ]
    },
    {
     "name": "stderr",
     "output_type": "stream",
     "text": [
      "Reusing dataset universal_dependencies (/Users/chrble/.cache/huggingface/datasets/universal_dependencies/da_ddt/2.7.0/065e728dfe9a8371434a6e87132c2386a6eacab1a076d3a12aa417b994e6ef7d)\n",
      "100%|██████████| 3/3 [00:00<00:00, 530.14it/s]\n"
     ]
    },
    {
     "name": "stdout",
     "output_type": "stream",
     "text": [
      "fr_gsd\n"
     ]
    },
    {
     "name": "stderr",
     "output_type": "stream",
     "text": [
      "Reusing dataset universal_dependencies (/Users/chrble/.cache/huggingface/datasets/universal_dependencies/fr_gsd/2.7.0/065e728dfe9a8371434a6e87132c2386a6eacab1a076d3a12aa417b994e6ef7d)\n",
      "100%|██████████| 3/3 [00:00<00:00, 424.87it/s]\n"
     ]
    },
    {
     "name": "stdout",
     "output_type": "stream",
     "text": [
      "de_gsd\n"
     ]
    },
    {
     "name": "stderr",
     "output_type": "stream",
     "text": [
      "Reusing dataset universal_dependencies (/Users/chrble/.cache/huggingface/datasets/universal_dependencies/de_gsd/2.7.0/065e728dfe9a8371434a6e87132c2386a6eacab1a076d3a12aa417b994e6ef7d)\n",
      "100%|██████████| 3/3 [00:00<00:00, 452.54it/s]\n"
     ]
    },
    {
     "name": "stdout",
     "output_type": "stream",
     "text": [
      "en_ewt\n"
     ]
    },
    {
     "name": "stderr",
     "output_type": "stream",
     "text": [
      "Reusing dataset universal_dependencies (/Users/chrble/.cache/huggingface/datasets/universal_dependencies/en_ewt/2.7.0/065e728dfe9a8371434a6e87132c2386a6eacab1a076d3a12aa417b994e6ef7d)\n",
      "100%|██████████| 3/3 [00:00<00:00, 485.68it/s]\n"
     ]
    },
    {
     "name": "stdout",
     "output_type": "stream",
     "text": [
      "es_gsd\n"
     ]
    },
    {
     "name": "stderr",
     "output_type": "stream",
     "text": [
      "Reusing dataset universal_dependencies (/Users/chrble/.cache/huggingface/datasets/universal_dependencies/es_gsd/2.7.0/065e728dfe9a8371434a6e87132c2386a6eacab1a076d3a12aa417b994e6ef7d)\n",
      "100%|██████████| 3/3 [00:00<00:00, 412.43it/s]\n"
     ]
    },
    {
     "name": "stdout",
     "output_type": "stream",
     "text": [
      "et_edt\n"
     ]
    },
    {
     "name": "stderr",
     "output_type": "stream",
     "text": [
      "Reusing dataset universal_dependencies (/Users/chrble/.cache/huggingface/datasets/universal_dependencies/et_edt/2.7.0/065e728dfe9a8371434a6e87132c2386a6eacab1a076d3a12aa417b994e6ef7d)\n",
      "100%|██████████| 3/3 [00:00<00:00, 392.11it/s]\n"
     ]
    },
    {
     "name": "stdout",
     "output_type": "stream",
     "text": [
      "fi_tdt\n"
     ]
    },
    {
     "name": "stderr",
     "output_type": "stream",
     "text": [
      "Reusing dataset universal_dependencies (/Users/chrble/.cache/huggingface/datasets/universal_dependencies/fi_tdt/2.7.0/065e728dfe9a8371434a6e87132c2386a6eacab1a076d3a12aa417b994e6ef7d)\n",
      "100%|██████████| 3/3 [00:00<00:00, 494.48it/s]\n"
     ]
    },
    {
     "name": "stdout",
     "output_type": "stream",
     "text": [
      "hr_set\n"
     ]
    },
    {
     "name": "stderr",
     "output_type": "stream",
     "text": [
      "Reusing dataset universal_dependencies (/Users/chrble/.cache/huggingface/datasets/universal_dependencies/hr_set/2.7.0/065e728dfe9a8371434a6e87132c2386a6eacab1a076d3a12aa417b994e6ef7d)\n",
      "100%|██████████| 3/3 [00:00<00:00, 498.33it/s]\n"
     ]
    },
    {
     "name": "stdout",
     "output_type": "stream",
     "text": [
      "hu_szeged\n"
     ]
    },
    {
     "name": "stderr",
     "output_type": "stream",
     "text": [
      "Reusing dataset universal_dependencies (/Users/chrble/.cache/huggingface/datasets/universal_dependencies/hu_szeged/2.7.0/065e728dfe9a8371434a6e87132c2386a6eacab1a076d3a12aa417b994e6ef7d)\n",
      "100%|██████████| 3/3 [00:00<00:00, 588.01it/s]\n"
     ]
    },
    {
     "name": "stdout",
     "output_type": "stream",
     "text": [
      "it_isdt\n"
     ]
    },
    {
     "name": "stderr",
     "output_type": "stream",
     "text": [
      "Reusing dataset universal_dependencies (/Users/chrble/.cache/huggingface/datasets/universal_dependencies/it_isdt/2.7.0/065e728dfe9a8371434a6e87132c2386a6eacab1a076d3a12aa417b994e6ef7d)\n",
      "100%|██████████| 3/3 [00:00<00:00, 460.14it/s]\n"
     ]
    },
    {
     "name": "stdout",
     "output_type": "stream",
     "text": [
      "lt_alksnis\n"
     ]
    },
    {
     "name": "stderr",
     "output_type": "stream",
     "text": [
      "Reusing dataset universal_dependencies (/Users/chrble/.cache/huggingface/datasets/universal_dependencies/lt_alksnis/2.7.0/065e728dfe9a8371434a6e87132c2386a6eacab1a076d3a12aa417b994e6ef7d)\n",
      "100%|██████████| 3/3 [00:00<00:00, 546.35it/s]\n"
     ]
    },
    {
     "name": "stdout",
     "output_type": "stream",
     "text": [
      "nl_alpino\n"
     ]
    },
    {
     "name": "stderr",
     "output_type": "stream",
     "text": [
      "Reusing dataset universal_dependencies (/Users/chrble/.cache/huggingface/datasets/universal_dependencies/nl_alpino/2.7.0/065e728dfe9a8371434a6e87132c2386a6eacab1a076d3a12aa417b994e6ef7d)\n",
      "100%|██████████| 3/3 [00:00<00:00, 448.29it/s]\n"
     ]
    },
    {
     "name": "stdout",
     "output_type": "stream",
     "text": [
      "no_bokmaal\n"
     ]
    },
    {
     "name": "stderr",
     "output_type": "stream",
     "text": [
      "Reusing dataset universal_dependencies (/Users/chrble/.cache/huggingface/datasets/universal_dependencies/no_bokmaal/2.7.0/065e728dfe9a8371434a6e87132c2386a6eacab1a076d3a12aa417b994e6ef7d)\n",
      "100%|██████████| 3/3 [00:00<00:00, 436.51it/s]\n"
     ]
    },
    {
     "name": "stdout",
     "output_type": "stream",
     "text": [
      "pt_bosque\n"
     ]
    },
    {
     "name": "stderr",
     "output_type": "stream",
     "text": [
      "Reusing dataset universal_dependencies (/Users/chrble/.cache/huggingface/datasets/universal_dependencies/pt_bosque/2.7.0/065e728dfe9a8371434a6e87132c2386a6eacab1a076d3a12aa417b994e6ef7d)\n",
      "100%|██████████| 3/3 [00:00<00:00, 501.93it/s]\n"
     ]
    },
    {
     "name": "stdout",
     "output_type": "stream",
     "text": [
      "pl_pdb\n"
     ]
    },
    {
     "name": "stderr",
     "output_type": "stream",
     "text": [
      "Reusing dataset universal_dependencies (/Users/chrble/.cache/huggingface/datasets/universal_dependencies/pl_pdb/2.7.0/065e728dfe9a8371434a6e87132c2386a6eacab1a076d3a12aa417b994e6ef7d)\n",
      "100%|██████████| 3/3 [00:00<00:00, 419.99it/s]\n"
     ]
    },
    {
     "name": "stdout",
     "output_type": "stream",
     "text": [
      "ro_rrt\n"
     ]
    },
    {
     "name": "stderr",
     "output_type": "stream",
     "text": [
      "Reusing dataset universal_dependencies (/Users/chrble/.cache/huggingface/datasets/universal_dependencies/ro_rrt/2.7.0/065e728dfe9a8371434a6e87132c2386a6eacab1a076d3a12aa417b994e6ef7d)\n",
      "100%|██████████| 3/3 [00:00<00:00, 490.68it/s]\n"
     ]
    },
    {
     "name": "stdout",
     "output_type": "stream",
     "text": [
      "sv_talbanken\n"
     ]
    },
    {
     "name": "stderr",
     "output_type": "stream",
     "text": [
      "Reusing dataset universal_dependencies (/Users/chrble/.cache/huggingface/datasets/universal_dependencies/sv_talbanken/2.7.0/065e728dfe9a8371434a6e87132c2386a6eacab1a076d3a12aa417b994e6ef7d)\n",
      "100%|██████████| 3/3 [00:00<00:00, 526.88it/s]\n"
     ]
    },
    {
     "name": "stdout",
     "output_type": "stream",
     "text": [
      "tr_boun\n"
     ]
    },
    {
     "name": "stderr",
     "output_type": "stream",
     "text": [
      "Reusing dataset universal_dependencies (/Users/chrble/.cache/huggingface/datasets/universal_dependencies/tr_boun/2.7.0/065e728dfe9a8371434a6e87132c2386a6eacab1a076d3a12aa417b994e6ef7d)\n",
      "100%|██████████| 3/3 [00:00<00:00, 526.33it/s]\n"
     ]
    }
   ],
   "source": [
    "datasets = []\n",
    "for sub_data in languages_ud_codes:\n",
    "    print(sub_data)\n",
    "    datasets.append(load_dataset('universal_dependencies', sub_data))"
   ]
  },
  {
   "cell_type": "code",
   "execution_count": 7,
   "metadata": {},
   "outputs": [
    {
     "name": "stdout",
     "output_type": "stream",
     "text": [
      "20\n"
     ]
    }
   ],
   "source": [
    "print(len(datasets))"
   ]
  },
  {
   "cell_type": "markdown",
   "metadata": {},
   "source": [
    "### Build training and test sets"
   ]
  },
  {
   "cell_type": "code",
   "execution_count": 8,
   "metadata": {},
   "outputs": [],
   "source": [
    "train_X_texts, train_y = [],[]\n",
    "for lang, ds in zip(languages, datasets):\n",
    "    for i, datapoint in enumerate(ds['train']):\n",
    "        train_X_texts.append(datapoint['text'])\n",
    "        train_y.append(lang)\n",
    "        "
   ]
  },
  {
   "cell_type": "code",
   "execution_count": 9,
   "metadata": {},
   "outputs": [],
   "source": [
    "test_X_texts, test_y = [],[]\n",
    "for lang, ds in zip(languages, datasets):\n",
    "    for datapoint in ds['test']:\n",
    "        test_X_texts.append(datapoint['text'])\n",
    "        test_y.append(lang)"
   ]
  },
  {
   "cell_type": "code",
   "execution_count": 69,
   "metadata": {},
   "outputs": [
    {
     "name": "stdout",
     "output_type": "stream",
     "text": [
      "number of training data samples: 230272\n",
      "number of test data samples: 22608\n"
     ]
    }
   ],
   "source": [
    "print(f'number of training data samples: {len(train_y)}')\n",
    "print(f'number of test data samples: {len(test_y)}')"
   ]
  },
  {
   "cell_type": "markdown",
   "metadata": {},
   "source": [
    "### Finding all ngrams in the training data"
   ]
  },
  {
   "cell_type": "code",
   "execution_count": 12,
   "metadata": {},
   "outputs": [],
   "source": [
    "ngram_lookup = features.collect_all_n_grams(train_X_texts)"
   ]
  },
  {
   "cell_type": "code",
   "execution_count": 70,
   "metadata": {},
   "outputs": [
    {
     "name": "stdout",
     "output_type": "stream",
     "text": [
      "there are 491274 distinct n-grams (1<=n<=4) in the training data\n"
     ]
    }
   ],
   "source": [
    "print(f'there are {len(ngram_lookup)} distinct n-grams (1<=n<=4) in the training data')"
   ]
  },
  {
   "cell_type": "markdown",
   "metadata": {},
   "source": [
    "### Sampling the ngrams"
   ]
  },
  {
   "cell_type": "code",
   "execution_count": 14,
   "metadata": {},
   "outputs": [
    {
     "name": "stdout",
     "output_type": "stream",
     "text": [
      "('i', 'u', 'l', 't') : 0\n",
      "('O', 'g', ' ', 'b') : 1\n",
      "('Q', 's', 'p') : 2\n",
      "('o', ' ', 'C', 'é') : 3\n",
      "('g', 'e', 'f', 'e') : 4\n",
      "('L', 'l', 'u', 'b') : 5\n",
      "('a', 'j', 'ą', ' ') : 6\n",
      "('n', 'e', 'd', 'e') : 7\n",
      "(' ', 'b', 'a', 'j') : 8\n",
      "('u', ' ', 'k', 'ö') : 9\n",
      "('ä', 'r', 's', 't') : 10\n",
      "('w', ' ', 'k', 'r') : 11\n"
     ]
    }
   ],
   "source": [
    "for i, (key,val) in enumerate(ngram_lookup.items()):\n",
    "    print (key,':', val)\n",
    "    if i >10:\n",
    "        break"
   ]
  },
  {
   "cell_type": "markdown",
   "metadata": {},
   "source": [
    "### Employment of the BOW method on ngrams in the training data"
   ]
  },
  {
   "cell_type": "code",
   "execution_count": 15,
   "metadata": {},
   "outputs": [],
   "source": [
    "train_X =[]\n",
    "for text in train_X_texts:\n",
    "    vector = features.build_feature_vector(text, ngram_lookup)\n",
    "    train_X.append(vector)"
   ]
  },
  {
   "cell_type": "code",
   "execution_count": 72,
   "metadata": {},
   "outputs": [
    {
     "name": "stdout",
     "output_type": "stream",
     "text": [
      "size of a feature vector: 491274 (only theoretical not in memory)\n"
     ]
    }
   ],
   "source": [
    "print('size of a feature vector:', train_X[0].size, '(only theoretical not in memory)')"
   ]
  },
  {
   "cell_type": "markdown",
   "metadata": {},
   "source": [
    "### Training the classifier on the training data"
   ]
  },
  {
   "cell_type": "code",
   "execution_count": 18,
   "metadata": {},
   "outputs": [
    {
     "name": "stdout",
     "output_type": "stream",
     "text": [
      "training classifier for 20 classes with 491274 features.\n"
     ]
    },
    {
     "name": "stderr",
     "output_type": "stream",
     "text": [
      "100%|██████████| 230272/230272 [00:31<00:00, 7396.48it/s] "
     ]
    },
    {
     "name": "stdout",
     "output_type": "stream",
     "text": [
      "training finished!\n"
     ]
    },
    {
     "name": "stderr",
     "output_type": "stream",
     "text": [
      "\n"
     ]
    }
   ],
   "source": [
    "mnb = NB.MNB_classfier()\n",
    "mnb.train(train_X, train_y)"
   ]
  },
  {
   "cell_type": "markdown",
   "metadata": {},
   "source": [
    "### Employing BOW on test data counting only the ngrams discovered in training"
   ]
  },
  {
   "cell_type": "code",
   "execution_count": 19,
   "metadata": {},
   "outputs": [],
   "source": [
    "test_X =[]\n",
    "for text in test_X_texts:\n",
    "    vector = features.build_feature_vector(text, ngram_lookup)\n",
    "    test_X.append(vector)"
   ]
  },
  {
   "cell_type": "markdown",
   "metadata": {},
   "source": [
    "### Prediction of label for all samples in test data"
   ]
  },
  {
   "cell_type": "code",
   "execution_count": 21,
   "metadata": {},
   "outputs": [
    {
     "name": "stderr",
     "output_type": "stream",
     "text": [
      "100%|██████████| 22608/22608 [03:18<00:00, 114.16it/s]\n"
     ]
    }
   ],
   "source": [
    "pred_y = mnb.predict(test_X)"
   ]
  },
  {
   "cell_type": "markdown",
   "metadata": {},
   "source": [
    "#### calculated accuracy"
   ]
  },
  {
   "cell_type": "code",
   "execution_count": 22,
   "metadata": {},
   "outputs": [
    {
     "data": {
      "text/plain": [
       "0.9575813871196037"
      ]
     },
     "execution_count": 22,
     "metadata": {},
     "output_type": "execute_result"
    }
   ],
   "source": [
    "evaluation.accuracy(pred_y, test_y)"
   ]
  },
  {
   "cell_type": "markdown",
   "metadata": {},
   "source": [
    "#### Comparing against langdetect python library (out of the box no retraining)"
   ]
  },
  {
   "cell_type": "code",
   "execution_count": 26,
   "metadata": {},
   "outputs": [
    {
     "name": "stderr",
     "output_type": "stream",
     "text": [
      "100%|██████████| 22608/22608 [01:44<00:00, 216.19it/s]\n"
     ]
    }
   ],
   "source": [
    "from langdetect import detect, LangDetectException\n",
    "pred_y_langdetect = []\n",
    "for t in tqdm(test_X_texts):\n",
    "    try:\n",
    "        pred_y_langdetect.append(detect(t))\n",
    "    except LangDetectException:\n",
    "        pred_y_langdetect.append('unknown')"
   ]
  },
  {
   "cell_type": "code",
   "execution_count": 27,
   "metadata": {},
   "outputs": [
    {
     "data": {
      "text/plain": [
       "0.9431617126680821"
      ]
     },
     "execution_count": 27,
     "metadata": {},
     "output_type": "execute_result"
    }
   ],
   "source": [
    "evaluation.accuracy(pred_y_langdetect, test_y)"
   ]
  },
  {
   "cell_type": "markdown",
   "metadata": {},
   "source": [
    "#### Comparing against langid.py out of the box"
   ]
  },
  {
   "cell_type": "code",
   "execution_count": 29,
   "metadata": {},
   "outputs": [
    {
     "name": "stderr",
     "output_type": "stream",
     "text": [
      "100%|██████████| 22608/22608 [00:21<00:00, 1062.21it/s]\n"
     ]
    }
   ],
   "source": [
    "import langid\n",
    "pred_y_langid = [langid.classify(t)[0] for t in tqdm(test_X_texts)]"
   ]
  },
  {
   "cell_type": "code",
   "execution_count": 30,
   "metadata": {},
   "outputs": [
    {
     "data": {
      "text/plain": [
       "0.9285208775654635"
      ]
     },
     "execution_count": 30,
     "metadata": {},
     "output_type": "execute_result"
    }
   ],
   "source": [
    "evaluation.accuracy(pred_y_langid, test_y)"
   ]
  },
  {
   "cell_type": "markdown",
   "metadata": {},
   "source": [
    "#### Plotting a confusion matrix over all the labels"
   ]
  },
  {
   "cell_type": "code",
   "execution_count": 68,
   "metadata": {},
   "outputs": [
    {
     "data": {
      "image/png": "[encoded data removed]",
      "text/plain": [
       "<Figure size 1440x1440 with 2 Axes>"
      ]
     },
     "metadata": {
      "needs_background": "light"
     },
     "output_type": "display_data"
    }
   ],
   "source": [
    "import matplotlib\n",
    "from matplotlib import pyplot as plt\n",
    "from sklearn.metrics import ConfusionMatrixDisplay\n",
    "matplotlib.rcParams.update({'font.size': 18})\n",
    "fig, ax = plt.subplots(figsize = (20,20))\n",
    "disp = ConfusionMatrixDisplay.from_predictions(test_y, pred_y, ax=ax, normalize='true', values_format='.2f')"
   ]
  },
  {
   "cell_type": "code",
   "execution_count": null,
   "metadata": {},
   "outputs": [],
   "source": []
  }
 ],
 "metadata": {
  "interpreter": {
   "hash": "4733b1b089d16a9752016eec64df6a21f858037ceaebe9b41699c8670e104c2c"
  },
  "kernelspec": {
   "display_name": "Python 3.8.6 ('langdetect_env': venv)",
   "language": "python",
   "name": "python3"
  },
  "language_info": {
   "codemirror_mode": {
    "name": "ipython",
    "version": 3
   },
   "file_extension": ".py",
   "mimetype": "text/x-python",
   "name": "python",
   "nbconvert_exporter": "python",
   "pygments_lexer": "ipython3",
   "version": "3.8.6"
  },
  "orig_nbformat": 4
 },
 "nbformat": 4,
 "nbformat_minor": 2
}
